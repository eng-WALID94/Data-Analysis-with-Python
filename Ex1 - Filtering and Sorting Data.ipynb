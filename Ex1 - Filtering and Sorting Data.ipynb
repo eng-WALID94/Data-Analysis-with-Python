{
  "cells": [
    {
      "cell_type": "markdown",
      "metadata": {
        "id": "view-in-github",
        "colab_type": "text"
      },
      "source": [
        "<a href=\"https://colab.research.google.com/github/eng-WALID94/Data-Analysis-with-Python/blob/Main/Ex1%20-%20Filtering%20and%20Sorting%20Data.ipynb\" target=\"_parent\"><img src=\"https://colab.research.google.com/assets/colab-badge.svg\" alt=\"Open In Colab\"/></a>"
      ]
    },
    {
      "cell_type": "markdown",
      "metadata": {
        "id": "iCVdRwmEQlXA"
      },
      "source": [
        "# Ex1 - Filtering and Sorting Data"
      ]
    },
    {
      "cell_type": "markdown",
      "metadata": {
        "id": "RALdv88nQlXC"
      },
      "source": [
        "This time we are going to pull data directly from the internet.\n",
        "Special thanks to: https://github.com/justmarkham for sharing the dataset and materials.\n",
        "\n",
        "### Step 1. Import the necessary libraries"
      ]
    },
    {
      "cell_type": "code",
      "execution_count": null,
      "metadata": {
        "id": "0-XuR3FdQlXD"
      },
      "outputs": [],
      "source": [
        "import pandas as pd"
      ]
    },
    {
      "cell_type": "markdown",
      "metadata": {
        "id": "qYS30XhjQlXD"
      },
      "source": [
        "### Step 2. Import the dataset from this [address](https://raw.githubusercontent.com/justmarkham/DAT8/master/data/chipotle.tsv)."
      ]
    },
    {
      "cell_type": "markdown",
      "metadata": {
        "id": "bwDMYN-uQlXE"
      },
      "source": [
        "### Step 3. Assign it to a variable called chipo."
      ]
    },
    {
      "cell_type": "code",
      "execution_count": null,
      "metadata": {
        "id": "uV8aAb8yQlXE"
      },
      "outputs": [],
      "source": [
        "url = 'https://raw.githubusercontent.com/justmarkham/DAT8/master/data/chipotle.tsv'\n",
        "chipo = pd.read_csv(url, sep='\\t')\n"
      ]
    },
    {
      "cell_type": "markdown",
      "metadata": {
        "id": "ZYIj2Jj9QlXE"
      },
      "source": [
        "### Step 4. How many products cost more than $10.00?"
      ]
    },
    {
      "cell_type": "code",
      "execution_count": null,
      "metadata": {
        "colab": {
          "base_uri": "https://localhost:8080/"
        },
        "id": "Oafo1kdVQlXE",
        "outputId": "827fe15b-0e0d-4c92-ef20-891448175c16"
      },
      "outputs": [
        {
          "output_type": "stream",
          "name": "stdout",
          "text": [
            "The number of products that cost more than $10.00 is: 1130\n"
          ]
        }
      ],
      "source": [
        "\n",
        "chipo['item_price'] = chipo['item_price'].apply(lambda x: float(x[1:]))\n",
        "\n",
        "num_expensive_products = chipo[chipo['item_price'] > 10.00].shape[0]\n",
        "print(f\"The number of products that cost more than $10.00 is: {num_expensive_products}\")\n"
      ]
    },
    {
      "cell_type": "markdown",
      "metadata": {
        "id": "rsIotJ7oQlXF"
      },
      "source": [
        "### Step 5. What is the price of each item?\n",
        "###### print a data frame with only two columns item_name and item_price"
      ]
    },
    {
      "cell_type": "code",
      "execution_count": null,
      "metadata": {
        "colab": {
          "base_uri": "https://localhost:8080/"
        },
        "id": "WXfYqbLWQlXF",
        "outputId": "e0b93220-74b3-4634-93c1-7e8b37fae3b5"
      },
      "outputs": [
        {
          "output_type": "stream",
          "name": "stdout",
          "text": [
            "                                  item_name  item_price\n",
            "0              Chips and Fresh Tomato Salsa        2.39\n",
            "1                                      Izze        3.39\n",
            "2                          Nantucket Nectar        3.39\n",
            "3     Chips and Tomatillo-Green Chili Salsa        2.39\n",
            "4                              Chicken Bowl       16.98\n",
            "...                                     ...         ...\n",
            "4237                    Chips and Guacamole        8.50\n",
            "4354                       Steak Soft Tacos       18.50\n",
            "4489                    Chips and Guacamole       17.80\n",
            "4509                                  Chips        1.99\n",
            "4510                          Barbacoa Bowl       11.49\n",
            "\n",
            "[209 rows x 2 columns]\n"
          ]
        }
      ],
      "source": [
        "item_prices = chipo[['item_name', 'item_price']].drop_duplicates()\n",
        "print(item_prices)"
      ]
    },
    {
      "cell_type": "markdown",
      "metadata": {
        "id": "4WNFL7UBQlXF"
      },
      "source": [
        "### Step 6. Sort by the name of the item"
      ]
    },
    {
      "cell_type": "code",
      "execution_count": null,
      "metadata": {
        "colab": {
          "base_uri": "https://localhost:8080/"
        },
        "id": "Ile2um7uQlXG",
        "outputId": "a79377a3-a33e-4218-ce6e-2dee76515f90"
      },
      "outputs": [
        {
          "output_type": "stream",
          "name": "stdout",
          "text": [
            "      order_id  quantity          item_name  \\\n",
            "3389      1360         2  6 Pack Soft Drink   \n",
            "341        148         1  6 Pack Soft Drink   \n",
            "1849       749         1  6 Pack Soft Drink   \n",
            "1860       754         1  6 Pack Soft Drink   \n",
            "2713      1076         1  6 Pack Soft Drink   \n",
            "...        ...       ...                ...   \n",
            "2384       948         1  Veggie Soft Tacos   \n",
            "781        322         1  Veggie Soft Tacos   \n",
            "2851      1132         1  Veggie Soft Tacos   \n",
            "1699       688         1  Veggie Soft Tacos   \n",
            "1395       567         1  Veggie Soft Tacos   \n",
            "\n",
            "                                     choice_description  item_price  \n",
            "3389                                        [Diet Coke]       12.98  \n",
            "341                                         [Diet Coke]        6.49  \n",
            "1849                                             [Coke]        6.49  \n",
            "1860                                        [Diet Coke]        6.49  \n",
            "2713                                             [Coke]        6.49  \n",
            "...                                                 ...         ...  \n",
            "2384  [Roasted Chili Corn Salsa, [Fajita Vegetables,...        8.75  \n",
            "781   [Fresh Tomato Salsa, [Black Beans, Cheese, Sou...        8.75  \n",
            "2851  [Roasted Chili Corn Salsa (Medium), [Black Bea...        8.49  \n",
            "1699  [Fresh Tomato Salsa, [Fajita Vegetables, Rice,...       11.25  \n",
            "1395  [Fresh Tomato Salsa (Mild), [Pinto Beans, Rice...        8.49  \n",
            "\n",
            "[4622 rows x 5 columns]\n"
          ]
        }
      ],
      "source": [
        "sorted_items = chipo.sort_values(by='item_name')\n",
        "print(sorted_items)"
      ]
    },
    {
      "cell_type": "markdown",
      "metadata": {
        "id": "R_WMWE72QlXG"
      },
      "source": [
        "### Step 7. What was the quantity of the most expensive item ordered?"
      ]
    },
    {
      "cell_type": "code",
      "execution_count": null,
      "metadata": {
        "colab": {
          "base_uri": "https://localhost:8080/"
        },
        "id": "v8rY60h6QlXG",
        "outputId": "21c45cfd-65f1-4a8e-e664-b081875c0f3b"
      },
      "outputs": [
        {
          "output_type": "stream",
          "name": "stdout",
          "text": [
            "The quantity of the most expensive item ordered is: 15\n"
          ]
        }
      ],
      "source": [
        "most_expensive_item = chipo.loc[chipo['item_price'].idxmax()]\n",
        "quantity_most_expensive = most_expensive_item['quantity']\n",
        "print(f\"The quantity of the most expensive item ordered is: {quantity_most_expensive}\")"
      ]
    },
    {
      "cell_type": "markdown",
      "metadata": {
        "id": "2a7FR-tuQlXG"
      },
      "source": [
        "### Step 8. How many times was a Veggie Salad Bowl ordered?"
      ]
    },
    {
      "cell_type": "code",
      "execution_count": null,
      "metadata": {
        "colab": {
          "base_uri": "https://localhost:8080/"
        },
        "id": "-ZYyXcbbQlXG",
        "outputId": "656a90a5-262f-4e52-de39-c44ee5c5ea62"
      },
      "outputs": [
        {
          "output_type": "stream",
          "name": "stdout",
          "text": [
            "The number of times a Veggie Salad Bowl was ordered is: 18\n"
          ]
        }
      ],
      "source": [
        "veggie_salad_bowl_orders = chipo[chipo['item_name'] == 'Veggie Salad Bowl'].shape[0]\n",
        "print(f\"The number of times a Veggie Salad Bowl was ordered is: {veggie_salad_bowl_orders}\")"
      ]
    },
    {
      "cell_type": "markdown",
      "metadata": {
        "id": "gPz07ydRQlXG"
      },
      "source": [
        "### Step 9. How many times did someone order more than one Canned Soda?"
      ]
    },
    {
      "cell_type": "code",
      "execution_count": null,
      "metadata": {
        "colab": {
          "base_uri": "https://localhost:8080/"
        },
        "id": "32bnp1pYQlXG",
        "outputId": "86ef1cdd-83ae-4f6b-91b9-5d9f3e1b4309"
      },
      "outputs": [
        {
          "output_type": "stream",
          "name": "stdout",
          "text": [
            "The number of times someone ordered more than one Canned Soda is: 20\n"
          ]
        }
      ],
      "source": [
        "multiple_canned_soda_orders = chipo[(chipo['item_name'] == 'Canned Soda') & (chipo['quantity'] > 1)].shape[0]\n",
        "print(f\"The number of times someone ordered more than one Canned Soda is: {multiple_canned_soda_orders}\")"
      ]
    },
    {
      "cell_type": "code",
      "source": [],
      "metadata": {
        "id": "ZSxIGAkZRq_T"
      },
      "execution_count": null,
      "outputs": []
    }
  ],
  "metadata": {
    "kernelspec": {
      "display_name": "Python 2",
      "language": "python",
      "name": "python2"
    },
    "language_info": {
      "codemirror_mode": {
        "name": "ipython",
        "version": 2
      },
      "file_extension": ".py",
      "mimetype": "text/x-python",
      "name": "python",
      "nbconvert_exporter": "python",
      "pygments_lexer": "ipython2",
      "version": "2.7.11"
    },
    "colab": {
      "provenance": [],
      "include_colab_link": true
    }
  },
  "nbformat": 4,
  "nbformat_minor": 0
}