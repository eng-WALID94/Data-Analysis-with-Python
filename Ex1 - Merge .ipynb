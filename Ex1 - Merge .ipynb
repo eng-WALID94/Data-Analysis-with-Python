{
  "cells": [
    {
      "cell_type": "markdown",
      "metadata": {
        "id": "view-in-github",
        "colab_type": "text"
      },
      "source": [
        "<a href=\"https://colab.research.google.com/github/eng-WALID94/Data-Analysis-with-Python/blob/Main/Ex1%20-%20Merge%20.ipynb\" target=\"_parent\"><img src=\"https://colab.research.google.com/assets/colab-badge.svg\" alt=\"Open In Colab\"/></a>"
      ]
    },
    {
      "cell_type": "markdown",
      "metadata": {
        "id": "3ym6CCWtyxYh"
      },
      "source": [
        "# MPG Cars"
      ]
    },
    {
      "cell_type": "markdown",
      "metadata": {
        "id": "HMqOIvXEyxYm"
      },
      "source": [
        "### Introduction:\n",
        "\n",
        "The following exercise utilizes data from [UC Irvine Machine Learning Repository](https://archive.ics.uci.edu/ml/datasets/Auto+MPG)\n",
        "\n",
        "### Step 1. Import the necessary libraries"
      ]
    },
    {
      "cell_type": "code",
      "execution_count": null,
      "metadata": {
        "id": "7-RpOQ95yxYm"
      },
      "outputs": [],
      "source": [
        "import pandas as pd"
      ]
    },
    {
      "cell_type": "markdown",
      "metadata": {
        "id": "9cRLzv2jyxYn"
      },
      "source": [
        "### Step 2. Import the first dataset [cars1](https://raw.githubusercontent.com/guipsamora/pandas_exercises/master/05_Merge/Auto_MPG/cars1.csv) and [cars2](https://raw.githubusercontent.com/guipsamora/pandas_exercises/master/05_Merge/Auto_MPG/cars2.csv).  "
      ]
    },
    {
      "cell_type": "markdown",
      "metadata": {
        "id": "geJg7GPlyxYn"
      },
      "source": [
        "   ### Step 3. Assign each to a variable called cars1 and cars2"
      ]
    },
    {
      "cell_type": "code",
      "execution_count": null,
      "metadata": {
        "id": "6aWx_yCvyxYo"
      },
      "outputs": [],
      "source": [
        "cars1_url = 'https://raw.githubusercontent.com/guipsamora/pandas_exercises/master/05_Merge/Auto_MPG/cars2.csv'\n",
        "cars2_url = 'https://raw.githubusercontent.com/guipsamora/pandas_exercises/master/05_Merge/Auto_MPG/cars1.csv'\n",
        "cars1 = pd.read_csv(cars1_url)\n",
        "cars2 = pd.read_csv(cars2_url)"
      ]
    },
    {
      "cell_type": "markdown",
      "metadata": {
        "id": "MHzVQviSyxYo"
      },
      "source": [
        "### Step 4. Oops, it seems our first dataset has some unnamed blank columns, fix cars1"
      ]
    },
    {
      "cell_type": "code",
      "execution_count": null,
      "metadata": {
        "colab": {
          "base_uri": "https://localhost:8080/"
        },
        "id": "zsS81wqQyxYo",
        "outputId": "48edcab9-a8cd-4673-9dd7-43d125efdd7e"
      },
      "outputs": [
        {
          "output_type": "stream",
          "name": "stdout",
          "text": [
            "    mpg  cylinders  displacement horsepower  weight  acceleration  model  \\\n",
            "0  33.0          4            91         53    1795          17.4     76   \n",
            "1  20.0          6           225        100    3651          17.7     76   \n",
            "2  18.0          6           250         78    3574          21.0     76   \n",
            "3  18.5          6           250        110    3645          16.2     76   \n",
            "4  17.5          6           258         95    3193          17.8     76   \n",
            "\n",
            "   origin                 car  \n",
            "0       3         honda civic  \n",
            "1       1      dodge aspen se  \n",
            "2       1   ford granada ghia  \n",
            "3       1  pontiac ventura sj  \n",
            "4       1       amc pacer d/l  \n"
          ]
        }
      ],
      "source": [
        "cars1 = cars1.loc[:, ~cars1.columns.str.contains('^Unnamed')]\n",
        "print(cars1.head())"
      ]
    },
    {
      "cell_type": "markdown",
      "metadata": {
        "id": "34d1pNZ2yxYp"
      },
      "source": [
        "### Step 5. What is the number of observations in each dataset?"
      ]
    },
    {
      "cell_type": "code",
      "execution_count": null,
      "metadata": {
        "colab": {
          "base_uri": "https://localhost:8080/"
        },
        "id": "XqK9ldvFyxYp",
        "outputId": "de5c972e-1420-4cc8-ce7b-a7a7a648a73c"
      },
      "outputs": [
        {
          "output_type": "stream",
          "name": "stdout",
          "text": [
            "The number of observations in cars1 is: 200\n",
            "The number of observations in cars1 is: 198\n"
          ]
        }
      ],
      "source": [
        "obser_cars1 =cars1.shape[0]\n",
        "obser_cars2 =cars2.shape[0]\n",
        "\n",
        "print(f\"The number of observations in cars1 is: {obser_cars1}\")\n",
        "print(f\"The number of observations in cars1 is: {obser_cars2}\")"
      ]
    },
    {
      "cell_type": "markdown",
      "metadata": {
        "id": "xgJZUVHyyxYp"
      },
      "source": [
        "### Step 6. Join cars1 and cars2 into a single DataFrame called cars"
      ]
    },
    {
      "cell_type": "code",
      "execution_count": null,
      "metadata": {
        "colab": {
          "base_uri": "https://localhost:8080/"
        },
        "id": "LTPJf8rjyxYq",
        "outputId": "876521b1-2fca-49c5-9993-f8df2622ae4c"
      },
      "outputs": [
        {
          "output_type": "stream",
          "name": "stdout",
          "text": [
            "    mpg  cylinders  displacement horsepower  weight  acceleration  model  \\\n",
            "0  33.0          4            91         53    1795          17.4     76   \n",
            "1  20.0          6           225        100    3651          17.7     76   \n",
            "2  18.0          6           250         78    3574          21.0     76   \n",
            "3  18.5          6           250        110    3645          16.2     76   \n",
            "4  17.5          6           258         95    3193          17.8     76   \n",
            "\n",
            "   origin                 car  Unnamed: 9  Unnamed: 10  Unnamed: 11  \\\n",
            "0       3         honda civic         NaN          NaN          NaN   \n",
            "1       1      dodge aspen se         NaN          NaN          NaN   \n",
            "2       1   ford granada ghia         NaN          NaN          NaN   \n",
            "3       1  pontiac ventura sj         NaN          NaN          NaN   \n",
            "4       1       amc pacer d/l         NaN          NaN          NaN   \n",
            "\n",
            "   Unnamed: 12  Unnamed: 13  \n",
            "0          NaN          NaN  \n",
            "1          NaN          NaN  \n",
            "2          NaN          NaN  \n",
            "3          NaN          NaN  \n",
            "4          NaN          NaN  \n"
          ]
        }
      ],
      "source": [
        "cars = pd.concat([cars1, cars2], ignore_index=True)\n",
        "print(cars.head())"
      ]
    },
    {
      "cell_type": "markdown",
      "metadata": {
        "id": "aTKbLoAwyxYq"
      },
      "source": [
        "### Step 7. Oops, there is a column missing, called owners. Create a random number Series from 15,000 to 73,000."
      ]
    },
    {
      "cell_type": "code",
      "execution_count": null,
      "metadata": {
        "id": "d3erl2DfyxYq"
      },
      "outputs": [],
      "source": [
        "import numpy as np\n",
        "np.random.seed(0)\n",
        "owners = np.random.randint(15000, 73000, size=cars.shape[0])"
      ]
    },
    {
      "cell_type": "markdown",
      "metadata": {
        "id": "uwC9kZvSyxYq"
      },
      "source": [
        "### Step 8. Add the column owners to cars"
      ]
    },
    {
      "cell_type": "code",
      "execution_count": null,
      "metadata": {
        "colab": {
          "base_uri": "https://localhost:8080/"
        },
        "id": "ccdb2YXgyxYq",
        "outputId": "173465b9-c66d-47d4-8dbe-aa4561a6ffc6"
      },
      "outputs": [
        {
          "output_type": "stream",
          "name": "stdout",
          "text": [
            "    mpg  cylinders  displacement horsepower  weight  acceleration  model  \\\n",
            "0  33.0          4            91         53    1795          17.4     76   \n",
            "1  20.0          6           225        100    3651          17.7     76   \n",
            "2  18.0          6           250         78    3574          21.0     76   \n",
            "3  18.5          6           250        110    3645          16.2     76   \n",
            "4  17.5          6           258         95    3193          17.8     76   \n",
            "\n",
            "   origin                 car  Unnamed: 9  Unnamed: 10  Unnamed: 11  \\\n",
            "0       3         honda civic         NaN          NaN          NaN   \n",
            "1       1      dodge aspen se         NaN          NaN          NaN   \n",
            "2       1   ford granada ghia         NaN          NaN          NaN   \n",
            "3       1  pontiac ventura sj         NaN          NaN          NaN   \n",
            "4       1       amc pacer d/l         NaN          NaN          NaN   \n",
            "\n",
            "   Unnamed: 12  Unnamed: 13  owners  \n",
            "0          NaN          NaN   17732  \n",
            "1          NaN          NaN   58567  \n",
            "2          NaN          NaN   57613  \n",
            "3          NaN          NaN   67416  \n",
            "4          NaN          NaN   60891  \n"
          ]
        }
      ],
      "source": [
        "cars['owners'] = owners\n",
        "print(cars.head())"
      ]
    },
    {
      "cell_type": "code",
      "source": [],
      "metadata": {
        "id": "CJ2f1_1I4A91"
      },
      "execution_count": null,
      "outputs": []
    }
  ],
  "metadata": {
    "anaconda-cloud": {},
    "kernelspec": {
      "display_name": "Python [default]",
      "language": "python",
      "name": "python2"
    },
    "language_info": {
      "codemirror_mode": {
        "name": "ipython",
        "version": 2
      },
      "file_extension": ".py",
      "mimetype": "text/x-python",
      "name": "python",
      "nbconvert_exporter": "python",
      "pygments_lexer": "ipython2",
      "version": "2.7.12"
    },
    "colab": {
      "provenance": [],
      "include_colab_link": true
    }
  },
  "nbformat": 4,
  "nbformat_minor": 0
}