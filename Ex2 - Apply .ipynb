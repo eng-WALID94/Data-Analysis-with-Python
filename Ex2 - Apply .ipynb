{
  "cells": [
    {
      "cell_type": "markdown",
      "metadata": {
        "id": "view-in-github",
        "colab_type": "text"
      },
      "source": [
        "<a href=\"https://colab.research.google.com/github/eng-WALID94/Data-Analysis-with-Python/blob/Main/Ex2%20-%20Apply%20.ipynb\" target=\"_parent\"><img src=\"https://colab.research.google.com/assets/colab-badge.svg\" alt=\"Open In Colab\"/></a>"
      ]
    },
    {
      "cell_type": "markdown",
      "metadata": {
        "id": "tBdWHUFdkMo7"
      },
      "source": [
        "# Student Alcohol Consumption"
      ]
    },
    {
      "cell_type": "markdown",
      "metadata": {
        "id": "FiShkomYkMpB"
      },
      "source": [
        "### Introduction:\n",
        "\n",
        "This time you will download a dataset from the UCI.\n",
        "\n",
        "### Step 1. Import the necessary libraries"
      ]
    },
    {
      "cell_type": "code",
      "execution_count": null,
      "metadata": {
        "id": "_Kx6GltYkMpC"
      },
      "outputs": [],
      "source": [
        "import pandas as pd"
      ]
    },
    {
      "cell_type": "markdown",
      "metadata": {
        "id": "LjNzVfKBkMpD"
      },
      "source": [
        "### Step 2. Import the dataset from this [address](https://raw.githubusercontent.com/guipsamora/pandas_exercises/master/04_Apply/Students_Alcohol_Consumption/student-mat.csv)."
      ]
    },
    {
      "cell_type": "markdown",
      "metadata": {
        "id": "3MMuRhRCkMpD"
      },
      "source": [
        "### Step 3. Assign it to a variable called df."
      ]
    },
    {
      "cell_type": "code",
      "execution_count": null,
      "metadata": {
        "id": "s3DCND01kMpE"
      },
      "outputs": [],
      "source": [
        "url = 'https://raw.githubusercontent.com/guipsamora/pandas_exercises/master/04_Apply/Students_Alcohol_Consumption/student-mat.csv'\n",
        "df = pd.read_csv(url)"
      ]
    },
    {
      "cell_type": "markdown",
      "metadata": {
        "id": "iUNWTaeRkMpE"
      },
      "source": [
        "### Step 4. For the purpose of this exercise slice the dataframe from 'school' until the 'guardian' column"
      ]
    },
    {
      "cell_type": "code",
      "execution_count": null,
      "metadata": {
        "colab": {
          "base_uri": "https://localhost:8080/"
        },
        "id": "OPOutqPokMpF",
        "outputId": "02c946e6-952c-47d6-8249-04b17a68cd17"
      },
      "outputs": [
        {
          "output_type": "stream",
          "name": "stdout",
          "text": [
            "  school sex  age address famsize Pstatus  Medu  Fedu     Mjob      Fjob  \\\n",
            "0     GP   F   18       U     GT3       A     4     4  at_home   teacher   \n",
            "1     GP   F   17       U     GT3       T     1     1  at_home     other   \n",
            "2     GP   F   15       U     LE3       T     1     1  at_home     other   \n",
            "3     GP   F   15       U     GT3       T     4     2   health  services   \n",
            "4     GP   F   16       U     GT3       T     3     3    other     other   \n",
            "\n",
            "   reason guardian  \n",
            "0  course   mother  \n",
            "1  course   father  \n",
            "2   other   mother  \n",
            "3    home   mother  \n",
            "4    home   father  \n"
          ]
        }
      ],
      "source": [
        "df_slice = df.loc[:, 'school':'guardian']\n",
        "print(df_slice.head())"
      ]
    },
    {
      "cell_type": "markdown",
      "metadata": {
        "id": "7PFc3aDNkMpG"
      },
      "source": [
        "### Step 5. Create a lambda function that will capitalize strings."
      ]
    },
    {
      "cell_type": "code",
      "execution_count": null,
      "metadata": {
        "id": "QGETkYZqkMpG"
      },
      "outputs": [],
      "source": [
        "capitalize_str = lambda x: x.capitalize()"
      ]
    },
    {
      "cell_type": "markdown",
      "metadata": {
        "id": "reVS1CW6kMpG"
      },
      "source": [
        "### Step 6. Capitalize both Mjob and Fjob"
      ]
    },
    {
      "cell_type": "code",
      "execution_count": null,
      "metadata": {
        "colab": {
          "base_uri": "https://localhost:8080/"
        },
        "id": "15u8FGqukMpH",
        "outputId": "453bf26e-f09b-4390-c852-f985fe22b6c2"
      },
      "outputs": [
        {
          "output_type": "stream",
          "name": "stdout",
          "text": [
            "      Mjob      Fjob\n",
            "0  At_home   Teacher\n",
            "1  At_home     Other\n",
            "2  At_home     Other\n",
            "3   Health  Services\n",
            "4    Other     Other\n"
          ]
        }
      ],
      "source": [
        "df['Mjob'] = df['Mjob'].apply(capitalize_str)\n",
        "df['Fjob'] = df['Fjob'].apply(capitalize_str)\n",
        "print(df[['Mjob', 'Fjob']].head())"
      ]
    },
    {
      "cell_type": "markdown",
      "metadata": {
        "id": "AI6uki57kMpH"
      },
      "source": [
        "### Step 7. Print the last elements of the data set."
      ]
    },
    {
      "cell_type": "code",
      "execution_count": null,
      "metadata": {
        "colab": {
          "base_uri": "https://localhost:8080/"
        },
        "id": "lxnzfX8gkMpH",
        "outputId": "7868754e-140a-47c6-9631-13018551da90"
      },
      "outputs": [
        {
          "output_type": "stream",
          "name": "stdout",
          "text": [
            "    school sex  age address famsize Pstatus  Medu  Fedu      Mjob      Fjob  \\\n",
            "390     MS   M   20       U     LE3       A     2     2  Services  Services   \n",
            "391     MS   M   17       U     LE3       T     3     1  Services  Services   \n",
            "392     MS   M   21       R     GT3       T     1     1     Other     Other   \n",
            "393     MS   M   18       R     LE3       T     3     2  Services     Other   \n",
            "394     MS   M   19       U     LE3       T     1     1     Other   At_home   \n",
            "\n",
            "     ... famrel freetime  goout  Dalc  Walc health absences  G1  G2  G3  \n",
            "390  ...      5        5      4     4     5      4       11   9   9   9  \n",
            "391  ...      2        4      5     3     4      2        3  14  16  16  \n",
            "392  ...      5        5      3     3     3      3        3  10   8   7  \n",
            "393  ...      4        4      1     3     4      5        0  11  12  10  \n",
            "394  ...      3        2      3     3     3      5        5   8   9   9  \n",
            "\n",
            "[5 rows x 33 columns]\n"
          ]
        }
      ],
      "source": [
        "print(df.tail())"
      ]
    },
    {
      "cell_type": "markdown",
      "metadata": {
        "id": "wJBVYtkTkMpH"
      },
      "source": [
        "### Step 8. Did you notice the original dataframe is still lowercase? Why is that? Fix it and capitalize Mjob and Fjob."
      ]
    },
    {
      "cell_type": "code",
      "execution_count": null,
      "metadata": {
        "colab": {
          "base_uri": "https://localhost:8080/"
        },
        "id": "9NHBwSO5kMpH",
        "outputId": "f32ca2de-9596-4193-93e9-79f385742a6a"
      },
      "outputs": [
        {
          "output_type": "stream",
          "name": "stdout",
          "text": [
            "      Mjob      Fjob\n",
            "0  At_home   Teacher\n",
            "1  At_home     Other\n",
            "2  At_home     Other\n",
            "3   Health  Services\n",
            "4    Other     Other\n"
          ]
        }
      ],
      "source": [
        "df['Mjob'] = df['Mjob'].apply(capitalize_str)\n",
        "df['Fjob'] = df['Fjob'].apply(capitalize_str)\n",
        "print(df[['Mjob', 'Fjob']].head())"
      ]
    },
    {
      "cell_type": "markdown",
      "metadata": {
        "id": "94ZUVoWmkMpI"
      },
      "source": [
        "### Step 9. Create a function called majority that returns a boolean value to a new column called legal_drinker (Consider majority as older than 17 years old)"
      ]
    },
    {
      "cell_type": "code",
      "execution_count": null,
      "metadata": {
        "colab": {
          "base_uri": "https://localhost:8080/"
        },
        "id": "MPmKcOZVkMpI",
        "outputId": "8354b6d2-c5fd-4c23-ebae-742dc7602f3e"
      },
      "outputs": [
        {
          "output_type": "stream",
          "name": "stdout",
          "text": [
            "   age  leagal_drinker\n",
            "0   18            True\n",
            "1   17           False\n",
            "2   15           False\n",
            "3   15           False\n",
            "4   16           False\n"
          ]
        }
      ],
      "source": [
        "def majority(age):\n",
        "    return age > 17\n",
        "df['leagal_drinker'] = df['age'].apply(majority)\n",
        "print(df[['age', 'leagal_drinker']].head())"
      ]
    },
    {
      "cell_type": "markdown",
      "metadata": {
        "id": "aNchjAlTkMpI"
      },
      "source": [
        "### Step 10. Multiply every number of the dataset by 10.\n",
        "##### I know this makes no sense, don't forget it is just an exercise"
      ]
    },
    {
      "cell_type": "code",
      "execution_count": null,
      "metadata": {
        "colab": {
          "base_uri": "https://localhost:8080/"
        },
        "id": "0-cejEvGkMpJ",
        "outputId": "13dbaf94-9e8f-4c5f-b843-1b0d46d0cf07"
      },
      "outputs": [
        {
          "output_type": "stream",
          "name": "stdout",
          "text": [
            "  school sex  age address famsize Pstatus  Medu  Fedu     Mjob      Fjob  ...  \\\n",
            "0     GP   F  180       U     GT3       A    40    40  At_home   Teacher  ...   \n",
            "1     GP   F  170       U     GT3       T    10    10  At_home     Other  ...   \n",
            "2     GP   F  150       U     LE3       T    10    10  At_home     Other  ...   \n",
            "3     GP   F  150       U     GT3       T    40    20   Health  Services  ...   \n",
            "4     GP   F  160       U     GT3       T    30    30    Other     Other  ...   \n",
            "\n",
            "  freetime goout  Dalc  Walc  health absences   G1   G2   G3 leagal_drinker  \n",
            "0       30    40    10    10      30       60   50   60   60           True  \n",
            "1       30    30    10    10      30       40   50   50   60          False  \n",
            "2       30    20    20    30      30      100   70   80  100          False  \n",
            "3       20    20    10    10      50       20  150  140  150          False  \n",
            "4       30    20    10    20      50       40   60  100  100          False  \n",
            "\n",
            "[5 rows x 34 columns]\n"
          ]
        }
      ],
      "source": [
        "numeric_column = df.select_dtypes(include=['int64', 'float64']).columns\n",
        "df[numeric_column] = df[numeric_column].apply(lambda x: x * 10)\n",
        "print(df.head())"
      ]
    },
    {
      "cell_type": "code",
      "execution_count": null,
      "metadata": {
        "id": "A4RW26jmkMpJ"
      },
      "outputs": [],
      "source": []
    }
  ],
  "metadata": {
    "anaconda-cloud": {},
    "kernelspec": {
      "display_name": "Python [default]",
      "language": "python",
      "name": "python2"
    },
    "language_info": {
      "codemirror_mode": {
        "name": "ipython",
        "version": 2
      },
      "file_extension": ".py",
      "mimetype": "text/x-python",
      "name": "python",
      "nbconvert_exporter": "python",
      "pygments_lexer": "ipython2",
      "version": "2.7.12"
    },
    "colab": {
      "provenance": [],
      "include_colab_link": true
    }
  },
  "nbformat": 4,
  "nbformat_minor": 0
}