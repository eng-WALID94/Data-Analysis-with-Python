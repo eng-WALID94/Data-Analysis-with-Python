{
  "cells": [
    {
      "cell_type": "markdown",
      "metadata": {
        "id": "view-in-github",
        "colab_type": "text"
      },
      "source": [
        "<a href=\"https://colab.research.google.com/github/eng-WALID94/Data-Analysis-with-Python/blob/Main/Ex3%20-%20Filtering%20and%20Sorting%20Data.ipynb\" target=\"_parent\"><img src=\"https://colab.research.google.com/assets/colab-badge.svg\" alt=\"Open In Colab\"/></a>"
      ]
    },
    {
      "cell_type": "markdown",
      "metadata": {
        "id": "zd_xen9SUDGs"
      },
      "source": [
        "# Fictional Army - Filtering and Sorting"
      ]
    },
    {
      "cell_type": "markdown",
      "metadata": {
        "id": "chpjw_zTUDGw"
      },
      "source": [
        "### Introduction:\n",
        "\n",
        "This exercise was inspired by this [page](http://chrisalbon.com/python/)\n",
        "\n",
        "Special thanks to: https://github.com/chrisalbon for sharing the dataset and materials.\n",
        "\n",
        "### Step 1. Import the necessary libraries"
      ]
    },
    {
      "cell_type": "code",
      "execution_count": null,
      "metadata": {
        "id": "AIuRI3b5UDGx"
      },
      "outputs": [],
      "source": [
        "import pandas as pd"
      ]
    },
    {
      "cell_type": "markdown",
      "metadata": {
        "id": "1rTsdtt4UDGz"
      },
      "source": [
        "### Step 2. This is the data given as a dictionary"
      ]
    },
    {
      "cell_type": "code",
      "execution_count": null,
      "metadata": {
        "collapsed": true,
        "id": "67MIKbE3UDGz"
      },
      "outputs": [],
      "source": [
        "# Create an example dataframe about a fictional army\n",
        "raw_data = {'regiment': ['Nighthawks', 'Nighthawks', 'Nighthawks', 'Nighthawks', 'Dragoons', 'Dragoons', 'Dragoons', 'Dragoons', 'Scouts', 'Scouts', 'Scouts', 'Scouts'],\n",
        "            'company': ['1st', '1st', '2nd', '2nd', '1st', '1st', '2nd', '2nd','1st', '1st', '2nd', '2nd'],\n",
        "            'deaths': [523, 52, 25, 616, 43, 234, 523, 62, 62, 73, 37, 35],\n",
        "            'battles': [5, 42, 2, 2, 4, 7, 8, 3, 4, 7, 8, 9],\n",
        "            'size': [1045, 957, 1099, 1400, 1592, 1006, 987, 849, 973, 1005, 1099, 1523],\n",
        "            'veterans': [1, 5, 62, 26, 73, 37, 949, 48, 48, 435, 63, 345],\n",
        "            'readiness': [1, 2, 3, 3, 2, 1, 2, 3, 2, 1, 2, 3],\n",
        "            'armored': [1, 0, 1, 1, 0, 1, 0, 1, 0, 0, 1, 1],\n",
        "            'deserters': [4, 24, 31, 2, 3, 4, 24, 31, 2, 3, 2, 3],\n",
        "            'origin': ['Arizona', 'California', 'Texas', 'Florida', 'Maine', 'Iowa', 'Alaska', 'Washington', 'Oregon', 'Wyoming', 'Louisana', 'Georgia']}"
      ]
    },
    {
      "cell_type": "markdown",
      "metadata": {
        "id": "zLJJhPhoUDG0"
      },
      "source": [
        "### Step 3. Create a dataframe and assign it to a variable called army.\n",
        "\n",
        "#### Don't forget to include the columns names in the order presented in the dictionary ('regiment', 'company', 'deaths'...) so that the column index order is consistent with the solutions. If omitted, pandas will order the columns alphabetically."
      ]
    },
    {
      "cell_type": "code",
      "execution_count": null,
      "metadata": {
        "id": "0rViM8BSUDG0"
      },
      "outputs": [],
      "source": [
        "army = pd.DataFrame(raw_data, columns=['regiment', 'company', 'deaths', 'battles', 'size', 'veterans', 'readiness', 'armored', 'deserters', 'origin'])"
      ]
    },
    {
      "cell_type": "markdown",
      "metadata": {
        "id": "i1FIfie4UDG1"
      },
      "source": [
        "### Step 4. Set the 'origin' colum as the index of the dataframe"
      ]
    },
    {
      "cell_type": "code",
      "execution_count": null,
      "metadata": {
        "id": "cyBb2E9sUDG1"
      },
      "outputs": [],
      "source": [
        "army.set_index('origin', inplace=True)"
      ]
    },
    {
      "cell_type": "markdown",
      "metadata": {
        "id": "Qzrsu-5FUDG1"
      },
      "source": [
        "### Step 5. Print only the column veterans"
      ]
    },
    {
      "cell_type": "code",
      "execution_count": null,
      "metadata": {
        "colab": {
          "base_uri": "https://localhost:8080/"
        },
        "id": "7dYHc-TIUDG1",
        "outputId": "3edc88ee-e12f-4f08-c86b-c12f195a6dcc"
      },
      "outputs": [
        {
          "output_type": "stream",
          "name": "stdout",
          "text": [
            "origin\n",
            "Arizona         1\n",
            "California      5\n",
            "Texas          62\n",
            "Florida        26\n",
            "Maine          73\n",
            "Iowa           37\n",
            "Alaska        949\n",
            "Washington     48\n",
            "Oregon         48\n",
            "Wyoming       435\n",
            "Louisana       63\n",
            "Georgia       345\n",
            "Name: veterans, dtype: int64\n"
          ]
        }
      ],
      "source": [
        "print(army['veterans'])"
      ]
    },
    {
      "cell_type": "markdown",
      "metadata": {
        "id": "FLUWAxOWUDG2"
      },
      "source": [
        "### Step 6. Print the columns 'veterans' and 'deaths'"
      ]
    },
    {
      "cell_type": "code",
      "execution_count": null,
      "metadata": {
        "colab": {
          "base_uri": "https://localhost:8080/"
        },
        "id": "3du5o-YIUDG2",
        "outputId": "69401ca0-f21a-4991-fb6f-d48052ed5373"
      },
      "outputs": [
        {
          "output_type": "stream",
          "name": "stdout",
          "text": [
            "            veterans  deaths\n",
            "origin                      \n",
            "Arizona            1     523\n",
            "California         5      52\n",
            "Texas             62      25\n",
            "Florida           26     616\n",
            "Maine             73      43\n",
            "Iowa              37     234\n",
            "Alaska           949     523\n",
            "Washington        48      62\n",
            "Oregon            48      62\n",
            "Wyoming          435      73\n",
            "Louisana          63      37\n",
            "Georgia          345      35\n"
          ]
        }
      ],
      "source": [
        "print(army[['veterans', 'deaths']])"
      ]
    },
    {
      "cell_type": "markdown",
      "metadata": {
        "id": "Lah1WXydUDG2"
      },
      "source": [
        "### Step 7. Print the name of all the columns."
      ]
    },
    {
      "cell_type": "code",
      "execution_count": null,
      "metadata": {
        "colab": {
          "base_uri": "https://localhost:8080/"
        },
        "id": "B-2FLJGAUDG2",
        "outputId": "0d0f71dd-a3b9-49b9-ea61-5d9e2a1caaac"
      },
      "outputs": [
        {
          "output_type": "stream",
          "name": "stdout",
          "text": [
            "Index(['regiment', 'company', 'deaths', 'battles', 'size', 'veterans',\n",
            "       'readiness', 'armored', 'deserters'],\n",
            "      dtype='object')\n"
          ]
        }
      ],
      "source": [
        "print(army.columns)"
      ]
    },
    {
      "cell_type": "markdown",
      "metadata": {
        "id": "vDY1yfIdUDG3"
      },
      "source": [
        "### Step 8. Select the 'deaths', 'size' and 'deserters' columns from Maine and Alaska"
      ]
    },
    {
      "cell_type": "code",
      "execution_count": null,
      "metadata": {
        "colab": {
          "base_uri": "https://localhost:8080/"
        },
        "id": "FG3MIuMNUDG3",
        "outputId": "7260e00e-d30a-427d-e07f-753b4ccd1363"
      },
      "outputs": [
        {
          "output_type": "stream",
          "name": "stdout",
          "text": [
            "        deaths  size  deserters\n",
            "origin                         \n",
            "Maine       43  1592          3\n",
            "Alaska     523   987         24\n"
          ]
        }
      ],
      "source": [
        "print(army.loc[['Maine', 'Alaska'], ['deaths', 'size', 'deserters']])"
      ]
    },
    {
      "cell_type": "markdown",
      "metadata": {
        "id": "dgC3ZeONUDG3"
      },
      "source": [
        "### Step 9. Select the rows 3 to 7 and the columns 3 to 6"
      ]
    },
    {
      "cell_type": "code",
      "execution_count": null,
      "metadata": {
        "colab": {
          "base_uri": "https://localhost:8080/"
        },
        "id": "s1i5uqrUUDG3",
        "outputId": "1ae1b370-f6c0-47b7-fcf2-9b4269298519"
      },
      "outputs": [
        {
          "output_type": "stream",
          "name": "stdout",
          "text": [
            "            battles  size  veterans  readiness\n",
            "origin                                        \n",
            "Florida           2  1400        26          3\n",
            "Maine             4  1592        73          2\n",
            "Iowa              7  1006        37          1\n",
            "Alaska            8   987       949          2\n",
            "Washington        3   849        48          3\n"
          ]
        }
      ],
      "source": [
        "print(army.iloc[3:8, 3:7])"
      ]
    },
    {
      "cell_type": "markdown",
      "metadata": {
        "id": "phR5J-RxUDG3"
      },
      "source": [
        "### Step 10. Select every row after the fourth row and all columns"
      ]
    },
    {
      "cell_type": "code",
      "execution_count": null,
      "metadata": {
        "colab": {
          "base_uri": "https://localhost:8080/"
        },
        "id": "kxfrs2XwUDG3",
        "outputId": "c251e84b-d405-4c53-f126-86006b4a3a7c"
      },
      "outputs": [
        {
          "output_type": "stream",
          "name": "stdout",
          "text": [
            "            regiment company  deaths  battles  size  veterans  readiness  \\\n",
            "origin                                                                     \n",
            "Maine       Dragoons     1st      43        4  1592        73          2   \n",
            "Iowa        Dragoons     1st     234        7  1006        37          1   \n",
            "Alaska      Dragoons     2nd     523        8   987       949          2   \n",
            "Washington  Dragoons     2nd      62        3   849        48          3   \n",
            "Oregon        Scouts     1st      62        4   973        48          2   \n",
            "Wyoming       Scouts     1st      73        7  1005       435          1   \n",
            "Louisana      Scouts     2nd      37        8  1099        63          2   \n",
            "Georgia       Scouts     2nd      35        9  1523       345          3   \n",
            "\n",
            "            armored  deserters  \n",
            "origin                          \n",
            "Maine             0          3  \n",
            "Iowa              1          4  \n",
            "Alaska            0         24  \n",
            "Washington        1         31  \n",
            "Oregon            0          2  \n",
            "Wyoming           0          3  \n",
            "Louisana          1          2  \n",
            "Georgia           1          3  \n"
          ]
        }
      ],
      "source": [
        "print(army.iloc[4:])"
      ]
    },
    {
      "cell_type": "markdown",
      "metadata": {
        "id": "Jnz9LumCUDG3"
      },
      "source": [
        "### Step 11. Select every row up to the 4th row and all columns"
      ]
    },
    {
      "cell_type": "code",
      "execution_count": null,
      "metadata": {
        "colab": {
          "base_uri": "https://localhost:8080/"
        },
        "id": "QH167RGoUDG3",
        "outputId": "35761bda-1487-4ee3-c1d2-eee3da207026"
      },
      "outputs": [
        {
          "output_type": "stream",
          "name": "stdout",
          "text": [
            "            regiment company  deaths  battles  size  veterans  readiness  \\\n",
            "origin                                                                     \n",
            "Maine       Dragoons     1st      43        4  1592        73          2   \n",
            "Iowa        Dragoons     1st     234        7  1006        37          1   \n",
            "Alaska      Dragoons     2nd     523        8   987       949          2   \n",
            "Washington  Dragoons     2nd      62        3   849        48          3   \n",
            "Oregon        Scouts     1st      62        4   973        48          2   \n",
            "Wyoming       Scouts     1st      73        7  1005       435          1   \n",
            "Louisana      Scouts     2nd      37        8  1099        63          2   \n",
            "Georgia       Scouts     2nd      35        9  1523       345          3   \n",
            "\n",
            "            armored  deserters  \n",
            "origin                          \n",
            "Maine             0          3  \n",
            "Iowa              1          4  \n",
            "Alaska            0         24  \n",
            "Washington        1         31  \n",
            "Oregon            0          2  \n",
            "Wyoming           0          3  \n",
            "Louisana          1          2  \n",
            "Georgia           1          3  \n"
          ]
        }
      ],
      "source": [
        "print(army.iloc[4:])"
      ]
    },
    {
      "cell_type": "markdown",
      "metadata": {
        "id": "OZbwZqhKUDG4"
      },
      "source": [
        "### Step 12. Select the 3rd column up to the 7th column"
      ]
    },
    {
      "cell_type": "code",
      "execution_count": null,
      "metadata": {
        "colab": {
          "base_uri": "https://localhost:8080/"
        },
        "id": "8wmtDNPoUDG4",
        "outputId": "e1ed1bd6-c13f-47d5-ee58-9f5878673c96"
      },
      "outputs": [
        {
          "output_type": "stream",
          "name": "stdout",
          "text": [
            "            deaths  battles  size  veterans  readiness\n",
            "origin                                                \n",
            "Arizona        523        5  1045         1          1\n",
            "California      52       42   957         5          2\n",
            "Texas           25        2  1099        62          3\n",
            "Florida        616        2  1400        26          3\n",
            "Maine           43        4  1592        73          2\n",
            "Iowa           234        7  1006        37          1\n",
            "Alaska         523        8   987       949          2\n",
            "Washington      62        3   849        48          3\n",
            "Oregon          62        4   973        48          2\n",
            "Wyoming         73        7  1005       435          1\n",
            "Louisana        37        8  1099        63          2\n",
            "Georgia         35        9  1523       345          3\n"
          ]
        }
      ],
      "source": [
        "print(army.iloc[:, 2:7])"
      ]
    },
    {
      "cell_type": "markdown",
      "metadata": {
        "id": "e4IP_cwGUDG4"
      },
      "source": [
        "### Step 13. Select rows where df.deaths is greater than 50"
      ]
    },
    {
      "cell_type": "code",
      "execution_count": null,
      "metadata": {
        "colab": {
          "base_uri": "https://localhost:8080/"
        },
        "id": "x98cbe2SUDG4",
        "outputId": "c120b657-7b5a-4f36-caa3-61647ca409e3"
      },
      "outputs": [
        {
          "output_type": "stream",
          "name": "stdout",
          "text": [
            "              regiment company  deaths  battles  size  veterans  readiness  \\\n",
            "origin                                                                       \n",
            "Arizona     Nighthawks     1st     523        5  1045         1          1   \n",
            "California  Nighthawks     1st      52       42   957         5          2   \n",
            "Florida     Nighthawks     2nd     616        2  1400        26          3   \n",
            "Iowa          Dragoons     1st     234        7  1006        37          1   \n",
            "Alaska        Dragoons     2nd     523        8   987       949          2   \n",
            "Washington    Dragoons     2nd      62        3   849        48          3   \n",
            "Oregon          Scouts     1st      62        4   973        48          2   \n",
            "Wyoming         Scouts     1st      73        7  1005       435          1   \n",
            "\n",
            "            armored  deserters  \n",
            "origin                          \n",
            "Arizona           1          4  \n",
            "California        0         24  \n",
            "Florida           1          2  \n",
            "Iowa              1          4  \n",
            "Alaska            0         24  \n",
            "Washington        1         31  \n",
            "Oregon            0          2  \n",
            "Wyoming           0          3  \n"
          ]
        }
      ],
      "source": [
        "print(army[army['deaths'] > 50])"
      ]
    },
    {
      "cell_type": "markdown",
      "metadata": {
        "id": "8jctxwZzUDG4"
      },
      "source": [
        "### Step 14. Select rows where df.deaths is greater than 500 or less than 50"
      ]
    },
    {
      "cell_type": "code",
      "execution_count": null,
      "metadata": {
        "colab": {
          "base_uri": "https://localhost:8080/"
        },
        "id": "mmNDist1UDG4",
        "outputId": "5f321ce4-b50e-4f1b-b880-430608586cb8"
      },
      "outputs": [
        {
          "output_type": "stream",
          "name": "stdout",
          "text": [
            "            regiment company  deaths  battles  size  veterans  readiness  \\\n",
            "origin                                                                     \n",
            "Arizona   Nighthawks     1st     523        5  1045         1          1   \n",
            "Texas     Nighthawks     2nd      25        2  1099        62          3   \n",
            "Florida   Nighthawks     2nd     616        2  1400        26          3   \n",
            "Maine       Dragoons     1st      43        4  1592        73          2   \n",
            "Alaska      Dragoons     2nd     523        8   987       949          2   \n",
            "Louisana      Scouts     2nd      37        8  1099        63          2   \n",
            "Georgia       Scouts     2nd      35        9  1523       345          3   \n",
            "\n",
            "          armored  deserters  \n",
            "origin                        \n",
            "Arizona         1          4  \n",
            "Texas           1         31  \n",
            "Florida         1          2  \n",
            "Maine           0          3  \n",
            "Alaska          0         24  \n",
            "Louisana        1          2  \n",
            "Georgia         1          3  \n"
          ]
        }
      ],
      "source": [
        "print(army[(army['deaths'] > 500) | (army['deaths'] < 50)])"
      ]
    },
    {
      "cell_type": "markdown",
      "metadata": {
        "id": "ZegR1OXcUDG4"
      },
      "source": [
        "### Step 15. Select all the regiments not named \"Dragoons\""
      ]
    },
    {
      "cell_type": "code",
      "execution_count": null,
      "metadata": {
        "colab": {
          "base_uri": "https://localhost:8080/"
        },
        "id": "a45th0i7UDG4",
        "outputId": "b777aecf-d9ef-481f-b980-82839732aa3a"
      },
      "outputs": [
        {
          "output_type": "stream",
          "name": "stdout",
          "text": [
            "              regiment company  deaths  battles  size  veterans  readiness  \\\n",
            "origin                                                                       \n",
            "Arizona     Nighthawks     1st     523        5  1045         1          1   \n",
            "California  Nighthawks     1st      52       42   957         5          2   \n",
            "Texas       Nighthawks     2nd      25        2  1099        62          3   \n",
            "Florida     Nighthawks     2nd     616        2  1400        26          3   \n",
            "Oregon          Scouts     1st      62        4   973        48          2   \n",
            "Wyoming         Scouts     1st      73        7  1005       435          1   \n",
            "Louisana        Scouts     2nd      37        8  1099        63          2   \n",
            "Georgia         Scouts     2nd      35        9  1523       345          3   \n",
            "\n",
            "            armored  deserters  \n",
            "origin                          \n",
            "Arizona           1          4  \n",
            "California        0         24  \n",
            "Texas             1         31  \n",
            "Florida           1          2  \n",
            "Oregon            0          2  \n",
            "Wyoming           0          3  \n",
            "Louisana          1          2  \n",
            "Georgia           1          3  \n"
          ]
        }
      ],
      "source": [
        "print(army[army['regiment'] != 'Dragoons'])"
      ]
    },
    {
      "cell_type": "markdown",
      "metadata": {
        "id": "Du7LsKB6UDG4"
      },
      "source": [
        "### Step 16. Select the rows called Texas and Arizona"
      ]
    },
    {
      "cell_type": "code",
      "execution_count": null,
      "metadata": {
        "colab": {
          "base_uri": "https://localhost:8080/"
        },
        "id": "3m2Kp6T9UDG6",
        "outputId": "1e626306-4150-4caf-a324-de0bdc5b2e0f"
      },
      "outputs": [
        {
          "output_type": "stream",
          "name": "stdout",
          "text": [
            "           regiment company  deaths  battles  size  veterans  readiness  \\\n",
            "origin                                                                    \n",
            "Texas    Nighthawks     2nd      25        2  1099        62          3   \n",
            "Arizona  Nighthawks     1st     523        5  1045         1          1   \n",
            "\n",
            "         armored  deserters  \n",
            "origin                       \n",
            "Texas          1         31  \n",
            "Arizona        1          4  \n"
          ]
        }
      ],
      "source": [
        "print(army.loc[['Texas', 'Arizona']])"
      ]
    },
    {
      "cell_type": "markdown",
      "metadata": {
        "id": "lRhGtHPOUDG7"
      },
      "source": [
        "### Step 17. Select the third cell in the row named Arizona"
      ]
    },
    {
      "cell_type": "code",
      "execution_count": null,
      "metadata": {
        "colab": {
          "base_uri": "https://localhost:8080/"
        },
        "id": "9du_iSKpUDG7",
        "outputId": "e24b9701-3051-4a93-fbc7-8030da7f768b"
      },
      "outputs": [
        {
          "output_type": "stream",
          "name": "stdout",
          "text": [
            "523\n"
          ]
        },
        {
          "output_type": "stream",
          "name": "stderr",
          "text": [
            "<ipython-input-19-fdb0ffa486ef>:1: FutureWarning: Series.__getitem__ treating keys as positions is deprecated. In a future version, integer keys will always be treated as labels (consistent with DataFrame behavior). To access a value by position, use `ser.iloc[pos]`\n",
            "  print(army.loc['Arizona'][2])\n"
          ]
        }
      ],
      "source": [
        "print(army.loc['Arizona'][2])"
      ]
    },
    {
      "cell_type": "markdown",
      "metadata": {
        "id": "JfVtbaZwUDG7"
      },
      "source": [
        "### Step 18. Select the third cell down in the column named deaths"
      ]
    },
    {
      "cell_type": "code",
      "execution_count": null,
      "metadata": {
        "colab": {
          "base_uri": "https://localhost:8080/"
        },
        "id": "gMs0cfOBUDG7",
        "outputId": "662972e2-0f58-47e1-9ad0-321461bd826f"
      },
      "outputs": [
        {
          "output_type": "stream",
          "name": "stdout",
          "text": [
            "25\n"
          ]
        }
      ],
      "source": [
        "print(army['deaths'].iloc[2])"
      ]
    },
    {
      "cell_type": "code",
      "source": [],
      "metadata": {
        "id": "AR_j_we5WMoT"
      },
      "execution_count": null,
      "outputs": []
    }
  ],
  "metadata": {
    "kernelspec": {
      "display_name": "Python 3",
      "language": "python",
      "name": "python3"
    },
    "language_info": {
      "codemirror_mode": {
        "name": "ipython",
        "version": 3
      },
      "file_extension": ".py",
      "mimetype": "text/x-python",
      "name": "python",
      "nbconvert_exporter": "python",
      "pygments_lexer": "ipython3",
      "version": "3.7.3"
    },
    "colab": {
      "provenance": [],
      "include_colab_link": true
    }
  },
  "nbformat": 4,
  "nbformat_minor": 0
}