{
  "cells": [
    {
      "cell_type": "markdown",
      "metadata": {
        "id": "view-in-github",
        "colab_type": "text"
      },
      "source": [
        "<a href=\"https://colab.research.google.com/github/eng-WALID94/Data-Analysis-with-Python/blob/Main/Ex3%20-%20Merge%20.ipynb\" target=\"_parent\"><img src=\"https://colab.research.google.com/assets/colab-badge.svg\" alt=\"Open In Colab\"/></a>"
      ]
    },
    {
      "cell_type": "markdown",
      "metadata": {
        "id": "q-TwxT4b6VCl"
      },
      "source": [
        "# Housing Market"
      ]
    },
    {
      "cell_type": "markdown",
      "metadata": {
        "id": "LwKdhdIa6VCs"
      },
      "source": [
        "### Introduction:\n",
        "\n",
        "This time we will create our own dataset with fictional numbers to describe a house market. As we are going to create random data don't try to reason of the numbers.\n",
        "\n",
        "### Step 1. Import the necessary libraries"
      ]
    },
    {
      "cell_type": "code",
      "execution_count": null,
      "metadata": {
        "id": "TYa04HKo6VCt"
      },
      "outputs": [],
      "source": [
        "import pandas as pd\n",
        "import numpy as np"
      ]
    },
    {
      "cell_type": "markdown",
      "metadata": {
        "id": "yvbgoO9x6VCu"
      },
      "source": [
        "### Step 2. Create 3 differents Series, each of length 100, as follows:\n",
        "1. The first a random number from 1 to 4\n",
        "2. The second a random number from 1 to 3\n",
        "3. The third a random number from 10,000 to 30,000"
      ]
    },
    {
      "cell_type": "code",
      "execution_count": null,
      "metadata": {
        "id": "V_CIMEs76VCu"
      },
      "outputs": [],
      "source": [
        "np.random.seed(0)\n",
        "se1 = pd.Series(np.random.randint(1,5, size=100))\n",
        "se2 = pd.Series(np.random.randint(1,4, size=100))\n",
        "se3 = pd.Series(np.random.randint(10000,30000, size=100))"
      ]
    },
    {
      "cell_type": "markdown",
      "metadata": {
        "id": "zkKV_YUz6VCv"
      },
      "source": [
        "### Step 3. Let's create a DataFrame by joinning the Series by column"
      ]
    },
    {
      "cell_type": "code",
      "execution_count": null,
      "metadata": {
        "id": "gYXog9S96VCv"
      },
      "outputs": [],
      "source": [
        "housing = pd.DataFrame({'bedrs': se1, 'bathrs': se2, 'price_sqr_meter': se3})"
      ]
    },
    {
      "cell_type": "markdown",
      "metadata": {
        "id": "oaK7MMYV6VCw"
      },
      "source": [
        "### Step 4. Change the name of the columns to bedrs, bathrs, price_sqr_meter"
      ]
    },
    {
      "cell_type": "code",
      "execution_count": null,
      "metadata": {
        "id": "oDt_y3Bo6VCx"
      },
      "outputs": [],
      "source": []
    },
    {
      "cell_type": "markdown",
      "metadata": {
        "id": "cptxCRHe6VCx"
      },
      "source": [
        "### Step 5. Create a one column DataFrame with the values of the 3 Series and assign it to 'bigcolumn'"
      ]
    },
    {
      "cell_type": "code",
      "execution_count": null,
      "metadata": {
        "id": "V3FcntA46VCy"
      },
      "outputs": [],
      "source": [
        "bigcolumn = pd.concat([se1, se2, se3], axis=0).reset_index(drop=True)\n",
        "bigcolumn = bigcolumn.to_frame(name='bigcolumn')"
      ]
    },
    {
      "cell_type": "markdown",
      "metadata": {
        "id": "U0nKKwei6VCy"
      },
      "source": [
        "### Step 6. Oops, it seems it is going only until index 99. Is it true?"
      ]
    },
    {
      "cell_type": "code",
      "execution_count": null,
      "metadata": {
        "colab": {
          "base_uri": "https://localhost:8080/"
        },
        "id": "ijyO09oj6VCy",
        "outputId": "6a4afb33-05b1-46d5-e1fe-173da984c11b"
      },
      "outputs": [
        {
          "output_type": "stream",
          "name": "stdout",
          "text": [
            "RangeIndex(start=0, stop=300, step=1)\n"
          ]
        }
      ],
      "source": [
        "print(bigcolumn.index)"
      ]
    },
    {
      "cell_type": "markdown",
      "metadata": {
        "id": "ZA2lK9KQ6VCy"
      },
      "source": [
        "### Step 7. Reindex the DataFrame so it goes from 0 to 299"
      ]
    },
    {
      "cell_type": "code",
      "execution_count": null,
      "metadata": {
        "colab": {
          "base_uri": "https://localhost:8080/"
        },
        "id": "Y1Th3I8q6VCz",
        "outputId": "f0c688d3-5233-4fa9-aaad-044bb1a8c487"
      },
      "outputs": [
        {
          "output_type": "stream",
          "name": "stdout",
          "text": [
            "     bigcolumn\n",
            "0            1\n",
            "1            4\n",
            "2            2\n",
            "3            1\n",
            "4            4\n",
            "..         ...\n",
            "295      28161\n",
            "296      29745\n",
            "297      18338\n",
            "298      24676\n",
            "299      12562\n",
            "\n",
            "[300 rows x 1 columns]\n"
          ]
        }
      ],
      "source": [
        "bigcolumn.reset_index(drop=True, inplace=True)\n",
        "print(bigcolumn)"
      ]
    }
  ],
  "metadata": {
    "kernelspec": {
      "display_name": "Python 2",
      "language": "python",
      "name": "python2"
    },
    "language_info": {
      "codemirror_mode": {
        "name": "ipython",
        "version": 2
      },
      "file_extension": ".py",
      "mimetype": "text/x-python",
      "name": "python",
      "nbconvert_exporter": "python",
      "pygments_lexer": "ipython2",
      "version": "2.7.11"
    },
    "colab": {
      "provenance": [],
      "include_colab_link": true
    }
  },
  "nbformat": 4,
  "nbformat_minor": 0
}