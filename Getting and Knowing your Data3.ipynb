{
  "cells": [
    {
      "cell_type": "markdown",
      "metadata": {
        "id": "view-in-github",
        "colab_type": "text"
      },
      "source": [
        "<a href=\"https://colab.research.google.com/github/eng-WALID94/Data-Analysis-with-Python/blob/Main/Getting%20and%20Knowing%20your%20Data3.ipynb\" target=\"_parent\"><img src=\"https://colab.research.google.com/assets/colab-badge.svg\" alt=\"Open In Colab\"/></a>"
      ]
    },
    {
      "cell_type": "markdown",
      "metadata": {
        "id": "QDAuXtOJLGs5"
      },
      "source": [
        "# Exercise 1"
      ]
    },
    {
      "cell_type": "markdown",
      "metadata": {
        "id": "znN6_xxRLGtG"
      },
      "source": [
        "### Step 1. Go to https://www.kaggle.com/openfoodfacts/world-food-facts/data"
      ]
    },
    {
      "cell_type": "markdown",
      "metadata": {
        "id": "7qmH3jMbLGtX"
      },
      "source": [
        "### Step 2. Download the dataset to your computer and unzip it."
      ]
    },
    {
      "cell_type": "markdown",
      "metadata": {
        "id": "Rd6RfQrfLGtZ"
      },
      "source": [
        "### Step 3. Use the tsv file and assign it to a dataframe called food"
      ]
    },
    {
      "cell_type": "code",
      "execution_count": null,
      "metadata": {
        "collapsed": true,
        "id": "uuUzGswlLGta"
      },
      "outputs": [],
      "source": [
        "import pandas as pd\n",
        "\n",
        "path_to_file = 'https://www.google.com/url?q=https%3A%2F%2Fwww.kaggle.com%2Fopenfoodfacts%2Fworld-food-facts%2Fdata'\n",
        "food = pd.read_csv(path_to_file, sep='\\t')"
      ]
    },
    {
      "cell_type": "markdown",
      "metadata": {
        "id": "DXR4PfzILGtd"
      },
      "source": [
        "### Step 4. See the first 5 entries"
      ]
    },
    {
      "cell_type": "code",
      "execution_count": null,
      "metadata": {
        "collapsed": true,
        "colab": {
          "base_uri": "https://localhost:8080/"
        },
        "id": "VSLBiYZwLGte",
        "outputId": "46c3467c-c302-4467-8ae5-02181a8ea6c3"
      },
      "outputs": [
        {
          "output_type": "stream",
          "name": "stdout",
          "text": [
            "Empty DataFrame\n",
            "Columns: [<html lang=\"en\"><head><meta http-equiv=\"Content-Type\" content=\"text/html; charset=ISO-8859-1\"><title>Redirect Notice</title><style>body,div,a{font-family:Arial,sans-serif}body{background-color:#fff;margin-top:3px}div{color:#000}a:link{color:#4b11a8;}a:visited{color:#4b11a8;}a:active{color:#ea4335}div.mymGo{border-top:1px solid #dadce0;border-bottom:1px solid #dadce0;background:#f8f9fa;margin-top:1em;width:100%}div.aXgaGb{padding:0.5em 0;margin-left:10px}div.fTk7vd{margin-left:35px;margin-top:35px}</style></head><body><div class=\"mymGo\"><div class=\"aXgaGb\"><font style=\"font-size:larger\"><b>Redirect Notice</b></font></div></div><div class=\"fTk7vd\">&nbsp;The previous page is sending you to <a href=\"https://www.kaggle.com/openfoodfacts/world-food-facts/data\">https://www.kaggle.com/openfoodfacts/world-food-facts/data</a>.<br><br>&nbsp;If you do not want to visit that page, you can <a href=\"#\" id=\"tsuid_719jZ8nFD9_80PEP8t-wgQM_1\">return to the previous page</a>.<script nonce=\"6DyfYnCaSA7r1ceVuV-iNQ\">(function(){var id='tsuid_719jZ8nFD9_80PEP8t-wgQM_1';(function(){document.getElementById(id).onclick=function(){window.history.back();return!1};}).call(this);})();(function(){var id='tsuid_719jZ8nFD9_80PEP8t-wgQM_1';var ct='originlink';var oi='unauthorizedredirect';(function(){document.getElementById(id).onmousedown=function(){var b=document&&document.referrer,a=\"encodeURIComponent\"in window?encodeURIComponent:escape,c=\"\";b&&(c=a(b));(new Image).src=\"/url?sa=T&url=\"+c+\"&oi=\"+a(oi)+\"&ct=\"+a(ct);return!1};}).call(this);})();</script><br><br><br></div></body></html>]\n",
            "Index: []\n"
          ]
        }
      ],
      "source": [
        "print(food.head())\n"
      ]
    },
    {
      "cell_type": "markdown",
      "metadata": {
        "id": "oq9Uw5TOLGtf"
      },
      "source": [
        "### Step 5. What is the number of observations in the dataset?"
      ]
    },
    {
      "cell_type": "code",
      "execution_count": null,
      "metadata": {
        "collapsed": true,
        "colab": {
          "base_uri": "https://localhost:8080/"
        },
        "id": "6Y90KhxTLGth",
        "outputId": "0f79b484-b7cf-4138-bc58-416494b953f1"
      },
      "outputs": [
        {
          "output_type": "stream",
          "name": "stdout",
          "text": [
            "The number of observations in the dataset is: 0\n"
          ]
        }
      ],
      "source": [
        "num_observations = food.shape[0]\n",
        "print(f\"The number of observations in the dataset is: {num_observations}\")"
      ]
    },
    {
      "cell_type": "markdown",
      "metadata": {
        "id": "aZl4IFf7LGth"
      },
      "source": [
        "### Step 6. What is the number of columns in the dataset?"
      ]
    },
    {
      "cell_type": "code",
      "execution_count": null,
      "metadata": {
        "collapsed": true,
        "colab": {
          "base_uri": "https://localhost:8080/"
        },
        "id": "_J6Ac3B0LGti",
        "outputId": "ab3489d1-a42d-4100-ab8e-8251ed42cda0"
      },
      "outputs": [
        {
          "output_type": "stream",
          "name": "stdout",
          "text": [
            "The number of columns in the dataset is: 1\n"
          ]
        }
      ],
      "source": [
        "num_columns = food.shape[1]\n",
        "print(f\"The number of columns in the dataset is: {num_columns}\")"
      ]
    },
    {
      "cell_type": "markdown",
      "metadata": {
        "id": "VX1gl5S4LGtj"
      },
      "source": [
        "### Step 7. Print the name of all the columns."
      ]
    },
    {
      "cell_type": "code",
      "execution_count": null,
      "metadata": {
        "collapsed": true,
        "colab": {
          "base_uri": "https://localhost:8080/"
        },
        "id": "29Xa5XmfLGtk",
        "outputId": "45dd8335-db5c-4a25-ac2b-35feae73801c"
      },
      "outputs": [
        {
          "output_type": "stream",
          "name": "stdout",
          "text": [
            "Index(['<html lang=\"en\"><head><meta http-equiv=\"Content-Type\" content=\"text/html; charset=ISO-8859-1\"><title>Redirect Notice</title><style>body,div,a{font-family:Arial,sans-serif}body{background-color:#fff;margin-top:3px}div{color:#000}a:link{color:#4b11a8;}a:visited{color:#4b11a8;}a:active{color:#ea4335}div.mymGo{border-top:1px solid #dadce0;border-bottom:1px solid #dadce0;background:#f8f9fa;margin-top:1em;width:100%}div.aXgaGb{padding:0.5em 0;margin-left:10px}div.fTk7vd{margin-left:35px;margin-top:35px}</style></head><body><div class=\"mymGo\"><div class=\"aXgaGb\"><font style=\"font-size:larger\"><b>Redirect Notice</b></font></div></div><div class=\"fTk7vd\">&nbsp;The previous page is sending you to <a href=\"https://www.kaggle.com/openfoodfacts/world-food-facts/data\">https://www.kaggle.com/openfoodfacts/world-food-facts/data</a>.<br><br>&nbsp;If you do not want to visit that page, you can <a href=\"#\" id=\"tsuid_719jZ8nFD9_80PEP8t-wgQM_1\">return to the previous page</a>.<script nonce=\"6DyfYnCaSA7r1ceVuV-iNQ\">(function(){var id='tsuid_719jZ8nFD9_80PEP8t-wgQM_1';(function(){document.getElementById(id).onclick=function(){window.history.back();return!1};}).call(this);})();(function(){var id='tsuid_719jZ8nFD9_80PEP8t-wgQM_1';var ct='originlink';var oi='unauthorizedredirect';(function(){document.getElementById(id).onmousedown=function(){var b=document&&document.referrer,a=\"encodeURIComponent\"in window?encodeURIComponent:escape,c=\"\";b&&(c=a(b));(new Image).src=\"/url?sa=T&url=\"+c+\"&oi=\"+a(oi)+\"&ct=\"+a(ct);return!1};}).call(this);})();</script><br><br><br></div></body></html>'], dtype='object')\n"
          ]
        }
      ],
      "source": [
        "print(food.columns)"
      ]
    },
    {
      "cell_type": "markdown",
      "metadata": {
        "id": "STzGHRVELGtk"
      },
      "source": [
        "### Step 8. What is the name of 105th column?"
      ]
    },
    {
      "cell_type": "code",
      "execution_count": null,
      "metadata": {
        "collapsed": true,
        "colab": {
          "base_uri": "https://localhost:8080/"
        },
        "id": "cw9rn8XBLGtl",
        "outputId": "939f006f-3ab2-4e3e-ce37-ec5fb58caf26"
      },
      "outputs": [
        {
          "output_type": "stream",
          "name": "stdout",
          "text": [
            "The number of columns in the dataset is: 1\n",
            "The dataset does not have 105 columns.\n"
          ]
        }
      ],
      "source": [
        "column_105 = food.columns[103]\n",
        "print(f\"The name of the 105th column is: {column_105}\")"
      ]
    },
    {
      "cell_type": "markdown",
      "metadata": {
        "id": "tXAMNbZ8LGtl"
      },
      "source": [
        "### Step 9. What is the type of the observations of the 105th column?"
      ]
    },
    {
      "cell_type": "code",
      "execution_count": null,
      "metadata": {
        "collapsed": true,
        "id": "zndlSXMeLGtm"
      },
      "outputs": [],
      "source": []
    },
    {
      "cell_type": "markdown",
      "metadata": {
        "id": "yDjFFnm8LGtn"
      },
      "source": [
        "### Step 10. How is the dataset indexed?"
      ]
    },
    {
      "cell_type": "code",
      "execution_count": null,
      "metadata": {
        "collapsed": true,
        "colab": {
          "base_uri": "https://localhost:8080/"
        },
        "id": "TbJRyphHLGtn",
        "outputId": "3e3e2135-3734-4015-d610-5af08c70bf25"
      },
      "outputs": [
        {
          "output_type": "stream",
          "name": "stdout",
          "text": [
            "RangeIndex(start=0, stop=0, step=1)\n"
          ]
        }
      ],
      "source": [
        "print(food.index)"
      ]
    },
    {
      "cell_type": "markdown",
      "metadata": {
        "id": "XODi6S0YLGto"
      },
      "source": [
        "### Step 11. What is the product name of the 19th observation?"
      ]
    },
    {
      "cell_type": "code",
      "execution_count": null,
      "metadata": {
        "collapsed": true,
        "colab": {
          "base_uri": "https://localhost:8080/"
        },
        "id": "THE25uQNLGto",
        "outputId": "92cb28b4-e57e-4948-94e7-c0c066956dfc"
      },
      "outputs": [
        {
          "output_type": "stream",
          "name": "stdout",
          "text": [
            "The number of observations in the dataset is: 0\n",
            "The dataset does not have 19 observations.\n"
          ]
        }
      ],
      "source": [
        "num_observations = food.shape[0]\n",
        "print(f\"The number of observations in the dataset is: {num_observations}\")\n",
        "if num_observations >= 19:\n",
        "    product_name_19th = food.iloc[18]['product_name']\n",
        "    print(f\"The product name of the 19th observation is: {product_name_19th}\")\n",
        "else:\n",
        "    print(\"The dataset does not have 19 observations.\")\n"
      ]
    },
    {
      "cell_type": "code",
      "source": [],
      "metadata": {
        "id": "pYxVR_QePp-v"
      },
      "execution_count": null,
      "outputs": []
    }
  ],
  "metadata": {
    "anaconda-cloud": {},
    "kernelspec": {
      "display_name": "Python [default]",
      "language": "python",
      "name": "python2"
    },
    "language_info": {
      "codemirror_mode": {
        "name": "ipython",
        "version": 2
      },
      "file_extension": ".py",
      "mimetype": "text/x-python",
      "name": "python",
      "nbconvert_exporter": "python",
      "pygments_lexer": "ipython2",
      "version": "2.7.12"
    },
    "colab": {
      "provenance": [],
      "include_colab_link": true
    }
  },
  "nbformat": 4,
  "nbformat_minor": 0
}